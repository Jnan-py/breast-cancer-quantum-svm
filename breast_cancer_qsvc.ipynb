{
 "cells": [
  {
   "cell_type": "code",
   "execution_count": 3,
   "id": "6aa8f6c5",
   "metadata": {},
   "outputs": [],
   "source": [
    "import os\n",
    "import pandas as pd"
   ]
  },
  {
   "cell_type": "code",
   "execution_count": 4,
   "id": "c4b5a674",
   "metadata": {},
   "outputs": [],
   "source": [
    "from sklearn.datasets import load_breast_cancer  \n",
    "from sklearn.model_selection import train_test_split\n",
    "from sklearn.preprocessing import StandardScaler"
   ]
  },
  {
   "cell_type": "code",
   "execution_count": 5,
   "id": "ebd8cc68",
   "metadata": {},
   "outputs": [],
   "source": [
    "from sklearn.decomposition import PCA\n",
    "from sklearn.svm import SVC\n",
    "from sklearn.metrics import classification_report"
   ]
  },
  {
   "cell_type": "code",
   "execution_count": 6,
   "id": "5a02270c",
   "metadata": {},
   "outputs": [],
   "source": [
    "from qiskit import QuantumCircuit\n",
    "from qiskit.circuit import ParameterVector\n",
    "import pickle"
   ]
  },
  {
   "cell_type": "code",
   "execution_count": 7,
   "id": "5b799401",
   "metadata": {},
   "outputs": [],
   "source": [
    "from qiskit.utils import algorithm_globals\n",
    "from qiskit.circuit.library import RealAmplitudes, ZZFeatureMap, ZFeatureMap, PauliFeatureMap"
   ]
  },
  {
   "cell_type": "code",
   "execution_count": 8,
   "id": "52575dd7",
   "metadata": {},
   "outputs": [],
   "source": [
    "from qiskit_machine_learning.kernels import FidelityQuantumKernel\n",
    "from qiskit_machine_learning.algorithms import QSVC"
   ]
  },
  {
   "cell_type": "code",
   "execution_count": 9,
   "id": "735e38b6",
   "metadata": {},
   "outputs": [],
   "source": [
    "from qiskit_algorithms.state_fidelities import ComputeUncompute\n",
    "from qiskit.primitives import Sampler"
   ]
  },
  {
   "cell_type": "code",
   "execution_count": 10,
   "id": "b4e2ef59",
   "metadata": {},
   "outputs": [],
   "source": [
    "import warnings\n",
    "warnings.filterwarnings(\"ignore\")"
   ]
  },
  {
   "cell_type": "code",
   "execution_count": 11,
   "id": "b1d41e45",
   "metadata": {},
   "outputs": [],
   "source": [
    "data = load_breast_cancer()\n",
    "X, y = data.data, data.target\n",
    "\n",
    "scaler = StandardScaler()\n",
    "X = scaler.fit_transform(X)\n",
    "\n",
    "X_train, X_test, y_train, y_test = train_test_split(X, y, test_size=0.2, random_state=42)\n"
   ]
  },
  {
   "cell_type": "code",
   "execution_count": 19,
   "id": "1279a7d1",
   "metadata": {},
   "outputs": [],
   "source": [
    "df = pd.DataFrame(X, columns=data.feature_names)"
   ]
  },
  {
   "cell_type": "code",
   "execution_count": 20,
   "id": "45c5a778",
   "metadata": {},
   "outputs": [],
   "source": [
    "df['target'] = y"
   ]
  },
  {
   "cell_type": "code",
   "execution_count": 22,
   "id": "d16058e9",
   "metadata": {},
   "outputs": [
    {
     "data": {
      "text/html": [
       "<div>\n",
       "<style scoped>\n",
       "    .dataframe tbody tr th:only-of-type {\n",
       "        vertical-align: middle;\n",
       "    }\n",
       "\n",
       "    .dataframe tbody tr th {\n",
       "        vertical-align: top;\n",
       "    }\n",
       "\n",
       "    .dataframe thead th {\n",
       "        text-align: right;\n",
       "    }\n",
       "</style>\n",
       "<table border=\"1\" class=\"dataframe\">\n",
       "  <thead>\n",
       "    <tr style=\"text-align: right;\">\n",
       "      <th></th>\n",
       "      <th>mean radius</th>\n",
       "      <th>mean texture</th>\n",
       "      <th>mean perimeter</th>\n",
       "      <th>mean area</th>\n",
       "      <th>mean smoothness</th>\n",
       "      <th>mean compactness</th>\n",
       "      <th>mean concavity</th>\n",
       "      <th>mean concave points</th>\n",
       "      <th>mean symmetry</th>\n",
       "      <th>mean fractal dimension</th>\n",
       "      <th>...</th>\n",
       "      <th>worst texture</th>\n",
       "      <th>worst perimeter</th>\n",
       "      <th>worst area</th>\n",
       "      <th>worst smoothness</th>\n",
       "      <th>worst compactness</th>\n",
       "      <th>worst concavity</th>\n",
       "      <th>worst concave points</th>\n",
       "      <th>worst symmetry</th>\n",
       "      <th>worst fractal dimension</th>\n",
       "      <th>target</th>\n",
       "    </tr>\n",
       "  </thead>\n",
       "  <tbody>\n",
       "    <tr>\n",
       "      <th>0</th>\n",
       "      <td>1.097064</td>\n",
       "      <td>-2.073335</td>\n",
       "      <td>1.269934</td>\n",
       "      <td>0.984375</td>\n",
       "      <td>1.568466</td>\n",
       "      <td>3.283515</td>\n",
       "      <td>2.652874</td>\n",
       "      <td>2.532475</td>\n",
       "      <td>2.217515</td>\n",
       "      <td>2.255747</td>\n",
       "      <td>...</td>\n",
       "      <td>-1.359293</td>\n",
       "      <td>2.303601</td>\n",
       "      <td>2.001237</td>\n",
       "      <td>1.307686</td>\n",
       "      <td>2.616665</td>\n",
       "      <td>2.109526</td>\n",
       "      <td>2.296076</td>\n",
       "      <td>2.750622</td>\n",
       "      <td>1.937015</td>\n",
       "      <td>0</td>\n",
       "    </tr>\n",
       "    <tr>\n",
       "      <th>1</th>\n",
       "      <td>1.829821</td>\n",
       "      <td>-0.353632</td>\n",
       "      <td>1.685955</td>\n",
       "      <td>1.908708</td>\n",
       "      <td>-0.826962</td>\n",
       "      <td>-0.487072</td>\n",
       "      <td>-0.023846</td>\n",
       "      <td>0.548144</td>\n",
       "      <td>0.001392</td>\n",
       "      <td>-0.868652</td>\n",
       "      <td>...</td>\n",
       "      <td>-0.369203</td>\n",
       "      <td>1.535126</td>\n",
       "      <td>1.890489</td>\n",
       "      <td>-0.375612</td>\n",
       "      <td>-0.430444</td>\n",
       "      <td>-0.146749</td>\n",
       "      <td>1.087084</td>\n",
       "      <td>-0.243890</td>\n",
       "      <td>0.281190</td>\n",
       "      <td>0</td>\n",
       "    </tr>\n",
       "    <tr>\n",
       "      <th>2</th>\n",
       "      <td>1.579888</td>\n",
       "      <td>0.456187</td>\n",
       "      <td>1.566503</td>\n",
       "      <td>1.558884</td>\n",
       "      <td>0.942210</td>\n",
       "      <td>1.052926</td>\n",
       "      <td>1.363478</td>\n",
       "      <td>2.037231</td>\n",
       "      <td>0.939685</td>\n",
       "      <td>-0.398008</td>\n",
       "      <td>...</td>\n",
       "      <td>-0.023974</td>\n",
       "      <td>1.347475</td>\n",
       "      <td>1.456285</td>\n",
       "      <td>0.527407</td>\n",
       "      <td>1.082932</td>\n",
       "      <td>0.854974</td>\n",
       "      <td>1.955000</td>\n",
       "      <td>1.152255</td>\n",
       "      <td>0.201391</td>\n",
       "      <td>0</td>\n",
       "    </tr>\n",
       "    <tr>\n",
       "      <th>3</th>\n",
       "      <td>-0.768909</td>\n",
       "      <td>0.253732</td>\n",
       "      <td>-0.592687</td>\n",
       "      <td>-0.764464</td>\n",
       "      <td>3.283553</td>\n",
       "      <td>3.402909</td>\n",
       "      <td>1.915897</td>\n",
       "      <td>1.451707</td>\n",
       "      <td>2.867383</td>\n",
       "      <td>4.910919</td>\n",
       "      <td>...</td>\n",
       "      <td>0.133984</td>\n",
       "      <td>-0.249939</td>\n",
       "      <td>-0.550021</td>\n",
       "      <td>3.394275</td>\n",
       "      <td>3.893397</td>\n",
       "      <td>1.989588</td>\n",
       "      <td>2.175786</td>\n",
       "      <td>6.046041</td>\n",
       "      <td>4.935010</td>\n",
       "      <td>0</td>\n",
       "    </tr>\n",
       "    <tr>\n",
       "      <th>4</th>\n",
       "      <td>1.750297</td>\n",
       "      <td>-1.151816</td>\n",
       "      <td>1.776573</td>\n",
       "      <td>1.826229</td>\n",
       "      <td>0.280372</td>\n",
       "      <td>0.539340</td>\n",
       "      <td>1.371011</td>\n",
       "      <td>1.428493</td>\n",
       "      <td>-0.009560</td>\n",
       "      <td>-0.562450</td>\n",
       "      <td>...</td>\n",
       "      <td>-1.466770</td>\n",
       "      <td>1.338539</td>\n",
       "      <td>1.220724</td>\n",
       "      <td>0.220556</td>\n",
       "      <td>-0.313395</td>\n",
       "      <td>0.613179</td>\n",
       "      <td>0.729259</td>\n",
       "      <td>-0.868353</td>\n",
       "      <td>-0.397100</td>\n",
       "      <td>0</td>\n",
       "    </tr>\n",
       "  </tbody>\n",
       "</table>\n",
       "<p>5 rows × 31 columns</p>\n",
       "</div>"
      ],
      "text/plain": [
       "   mean radius  mean texture  mean perimeter  mean area  mean smoothness  \\\n",
       "0     1.097064     -2.073335        1.269934   0.984375         1.568466   \n",
       "1     1.829821     -0.353632        1.685955   1.908708        -0.826962   \n",
       "2     1.579888      0.456187        1.566503   1.558884         0.942210   \n",
       "3    -0.768909      0.253732       -0.592687  -0.764464         3.283553   \n",
       "4     1.750297     -1.151816        1.776573   1.826229         0.280372   \n",
       "\n",
       "   mean compactness  mean concavity  mean concave points  mean symmetry  \\\n",
       "0          3.283515        2.652874             2.532475       2.217515   \n",
       "1         -0.487072       -0.023846             0.548144       0.001392   \n",
       "2          1.052926        1.363478             2.037231       0.939685   \n",
       "3          3.402909        1.915897             1.451707       2.867383   \n",
       "4          0.539340        1.371011             1.428493      -0.009560   \n",
       "\n",
       "   mean fractal dimension  ...  worst texture  worst perimeter  worst area  \\\n",
       "0                2.255747  ...      -1.359293         2.303601    2.001237   \n",
       "1               -0.868652  ...      -0.369203         1.535126    1.890489   \n",
       "2               -0.398008  ...      -0.023974         1.347475    1.456285   \n",
       "3                4.910919  ...       0.133984        -0.249939   -0.550021   \n",
       "4               -0.562450  ...      -1.466770         1.338539    1.220724   \n",
       "\n",
       "   worst smoothness  worst compactness  worst concavity  worst concave points  \\\n",
       "0          1.307686           2.616665         2.109526              2.296076   \n",
       "1         -0.375612          -0.430444        -0.146749              1.087084   \n",
       "2          0.527407           1.082932         0.854974              1.955000   \n",
       "3          3.394275           3.893397         1.989588              2.175786   \n",
       "4          0.220556          -0.313395         0.613179              0.729259   \n",
       "\n",
       "   worst symmetry  worst fractal dimension  target  \n",
       "0        2.750622                 1.937015       0  \n",
       "1       -0.243890                 0.281190       0  \n",
       "2        1.152255                 0.201391       0  \n",
       "3        6.046041                 4.935010       0  \n",
       "4       -0.868353                -0.397100       0  \n",
       "\n",
       "[5 rows x 31 columns]"
      ]
     },
     "execution_count": 22,
     "metadata": {},
     "output_type": "execute_result"
    }
   ],
   "source": [
    "df.head()"
   ]
  },
  {
   "cell_type": "code",
   "execution_count": 23,
   "id": "7273bb47",
   "metadata": {},
   "outputs": [
    {
     "data": {
      "text/plain": [
       "30"
      ]
     },
     "execution_count": 23,
     "metadata": {},
     "output_type": "execute_result"
    }
   ],
   "source": [
    "len(data.feature_names)"
   ]
  },
  {
   "cell_type": "code",
   "execution_count": 39,
   "id": "749c3c45",
   "metadata": {},
   "outputs": [],
   "source": [
    "models_dir = 'models'\n",
    "os.makedirs(models_dir, exist_ok=True)"
   ]
  },
  {
   "cell_type": "code",
   "execution_count": 40,
   "id": "3052a060",
   "metadata": {},
   "outputs": [],
   "source": [
    "pca_path = os.path.join(models_dir, 'pca.pkl')"
   ]
  },
  {
   "cell_type": "code",
   "execution_count": null,
   "id": "2ea33e2f",
   "metadata": {},
   "outputs": [],
   "source": [
    "if os.path.exists(pca_path):\n",
    "    with open(pca_path, 'rb') as f:\n",
    "        pca = pickle.load(f)\n",
    "\n",
    "    print(\"Loaded existing PCA transformer.\")\n",
    "    X_train_reduced = pca.transform(X_train)\n",
    "    X_test_reduced = pca.transform(X_test)\n",
    "\n",
    "else:\n",
    "    pca = PCA(n_components=2)\n",
    "\n",
    "    X_train_reduced = pca.fit_transform(X_train)\n",
    "    X_test_reduced = pca.transform(X_test)\n",
    "\n",
    "    with open(pca_path, 'wb') as f:\n",
    "        pickle.dump(pca, f)\n",
    "        \n",
    "    print(\"Fitted and saved new PCA transformer.\")"
   ]
  },
  {
   "cell_type": "code",
   "execution_count": 18,
   "id": "dd1cc23b",
   "metadata": {},
   "outputs": [],
   "source": [
    "def custom_zz_feature_map(feature_dimension, reps):\n",
    "    \n",
    "    params = ParameterVector('x', feature_dimension)\n",
    "    qc = QuantumCircuit(feature_dimension)\n",
    "    \n",
    "    for i in range(feature_dimension):\n",
    "        qc.h(i)\n",
    "    \n",
    "    for _ in range(reps):\n",
    "        \n",
    "        for i in range(feature_dimension):\n",
    "            qc.ry(2 * params[i], i)\n",
    "        \n",
    "        for i in range(feature_dimension - 1):\n",
    "            qc.cx(i, i+1)\n",
    "            qc.rz(2 * params[i], i+1)\n",
    "            qc.cx(i, i+1)\n",
    "    return qc"
   ]
  },
  {
   "cell_type": "code",
   "execution_count": 19,
   "id": "394b2057",
   "metadata": {},
   "outputs": [],
   "source": [
    "def custom_z_feature_map(feature_dimension, reps):\n",
    "    \n",
    "    params = ParameterVector('x', feature_dimension)\n",
    "    qc = QuantumCircuit(feature_dimension)\n",
    "    for i in range(feature_dimension):\n",
    "        qc.h(i)\n",
    "    for _ in range(reps):\n",
    "        \n",
    "        for i in range(feature_dimension):\n",
    "            qc.rz(2 * params[i], i)\n",
    "        \n",
    "        for i in range(feature_dimension - 1):\n",
    "            qc.cx(i, i+1)\n",
    "            qc.rx(2 * params[i], i+1)\n",
    "            qc.cx(i, i+1)\n",
    "    return qc"
   ]
  },
  {
   "cell_type": "code",
   "execution_count": 20,
   "id": "6f8144bc",
   "metadata": {},
   "outputs": [],
   "source": [
    "def custom_pauli_feature_map(feature_dimension, reps):\n",
    "    \n",
    "    params = ParameterVector('x', feature_dimension)\n",
    "    qc = QuantumCircuit(feature_dimension)\n",
    "\n",
    "    for i in range(feature_dimension):\n",
    "        qc.h(i)\n",
    "\n",
    "    for _ in range(reps):\n",
    "        \n",
    "        for i in range(feature_dimension):\n",
    "            qc.rz(2 * params[i], i)\n",
    "            qc.rx(2 * params[i], i)\n",
    "            qc.ry(2 * params[i], i)\n",
    "        \n",
    "        for i in range(feature_dimension - 1):\n",
    "            qc.cx(i, i+1)\n",
    "            qc.rz(2 * params[i], i+1)\n",
    "            qc.cx(i, i+1)\n",
    "    return qc"
   ]
  },
  {
   "cell_type": "code",
   "execution_count": 21,
   "id": "56b29056",
   "metadata": {},
   "outputs": [],
   "source": [
    "def build_real_amplitudes_ansatz(num_qubits, reps=1):    \n",
    "    ansatz = RealAmplitudes(num_qubits=num_qubits, reps=reps, entanglement='full')    \n",
    "    bound_ansatz = ansatz.bind_parameters({param: 0 for param in ansatz.parameters})\n",
    "    return bound_ansatz"
   ]
  },
  {
   "cell_type": "code",
   "execution_count": 22,
   "id": "525e9553",
   "metadata": {},
   "outputs": [],
   "source": [
    "num_features = X_train_reduced.shape[1]"
   ]
  },
  {
   "cell_type": "code",
   "execution_count": 23,
   "id": "e4a53da3",
   "metadata": {},
   "outputs": [
    {
     "data": {
      "text/plain": [
       "2"
      ]
     },
     "execution_count": 23,
     "metadata": {},
     "output_type": "execute_result"
    }
   ],
   "source": [
    "num_features"
   ]
  },
  {
   "cell_type": "code",
   "execution_count": 24,
   "id": "19edd190",
   "metadata": {},
   "outputs": [],
   "source": [
    "reps = 2"
   ]
  },
  {
   "cell_type": "code",
   "execution_count": 25,
   "id": "c0ddd85f",
   "metadata": {},
   "outputs": [],
   "source": [
    "ansatz = build_real_amplitudes_ansatz(num_qubits=num_features, reps=1)"
   ]
  },
  {
   "cell_type": "code",
   "execution_count": 26,
   "id": "4522cf9b",
   "metadata": {},
   "outputs": [
    {
     "data": {
      "image/png": "[encoded data removed]",
      "text/plain": [
       "<Figure size 370.906x200.667 with 1 Axes>"
      ]
     },
     "execution_count": 26,
     "metadata": {},
     "output_type": "execute_result"
    }
   ],
   "source": [
    "ansatz.decompose().draw('mpl')"
   ]
  },
  {
   "cell_type": "code",
   "execution_count": 27,
   "id": "e287dd61",
   "metadata": {},
   "outputs": [],
   "source": [
    "zz_map = custom_zz_feature_map(num_features, reps)\n",
    "final_circuit_zz = zz_map.compose(ansatz)\n",
    "\n",
    "z_map = custom_z_feature_map(num_features, reps)\n",
    "final_circuit_z = z_map.compose(ansatz)\n",
    "\n",
    "pauli_map = custom_pauli_feature_map(num_features, reps)\n",
    "final_circuit_pauli = pauli_map.compose(ansatz)"
   ]
  },
  {
   "cell_type": "code",
   "execution_count": null,
   "id": "edfb6a23",
   "metadata": {},
   "outputs": [],
   "source": [
    "## ------ Creating Kernels using the custom feature maps ------ ##\n",
    "\n",
    "# zz_map = ZZFeatureMap(feature_dimension=num_features, reps=reps)\n",
    "\n",
    "# z_map = ZFeatureMap(feature_dimension=num_features, reps=reps)\n",
    "\n",
    "# pauli_map = PauliFeatureMap(feature_dimension=num_features, reps=reps, entanglement='full', paulis=['Z', 'X', 'Y'])"
   ]
  },
  {
   "cell_type": "code",
   "execution_count": 29,
   "id": "57eeebdd",
   "metadata": {},
   "outputs": [
    {
     "data": {
      "image/png": "[encoded data removed]",
      "text/plain": [
       "<Figure size 1123.41x200.667 with 1 Axes>"
      ]
     },
     "execution_count": 29,
     "metadata": {},
     "output_type": "execute_result"
    }
   ],
   "source": [
    "final_circuit_z.decompose().draw(output='mpl')"
   ]
  },
  {
   "cell_type": "code",
   "execution_count": 30,
   "id": "d22cca52",
   "metadata": {},
   "outputs": [
    {
     "data": {
      "image/png": "[encoded data removed]",
      "text/plain": [
       "<Figure size 1290.63x200.667 with 1 Axes>"
      ]
     },
     "execution_count": 30,
     "metadata": {},
     "output_type": "execute_result"
    }
   ],
   "source": [
    "final_circuit_zz.decompose().draw(output='mpl')"
   ]
  },
  {
   "cell_type": "code",
   "execution_count": 31,
   "id": "659bc11f",
   "metadata": {},
   "outputs": [
    {
     "data": {
      "image/png": "[encoded data removed]",
      "text/plain": [
       "<Figure size 1625.07x200.667 with 1 Axes>"
      ]
     },
     "execution_count": 31,
     "metadata": {},
     "output_type": "execute_result"
    }
   ],
   "source": [
    "final_circuit_pauli.decompose().draw(output='mpl')"
   ]
  },
  {
   "cell_type": "code",
   "execution_count": 32,
   "id": "28e41005",
   "metadata": {},
   "outputs": [
    {
     "data": {
      "text/plain": [
       "2"
      ]
     },
     "execution_count": 32,
     "metadata": {},
     "output_type": "execute_result"
    }
   ],
   "source": [
    "final_circuit_zz.num_parameters"
   ]
  },
  {
   "cell_type": "code",
   "execution_count": 33,
   "id": "1e669b47",
   "metadata": {},
   "outputs": [
    {
     "data": {
      "text/plain": [
       "2"
      ]
     },
     "execution_count": 33,
     "metadata": {},
     "output_type": "execute_result"
    }
   ],
   "source": [
    "final_circuit_pauli.num_parameters"
   ]
  },
  {
   "cell_type": "code",
   "execution_count": 34,
   "id": "6fd040f9",
   "metadata": {},
   "outputs": [],
   "source": [
    "algorithm_globals.random_seed = 42\n",
    "\n",
    "sampler = Sampler()\n",
    "\n",
    "fidelity = ComputeUncompute(sampler=sampler)\n",
    "\n",
    "quantum_kernel_zz = FidelityQuantumKernel(feature_map=final_circuit_zz, fidelity=fidelity)\n",
    "quantum_kernel_z = FidelityQuantumKernel(feature_map=final_circuit_z, fidelity=fidelity)\n",
    "quantum_kernel_pauli = FidelityQuantumKernel(feature_map=final_circuit_pauli, fidelity=fidelity)\n"
   ]
  },
  {
   "cell_type": "code",
   "execution_count": 35,
   "id": "1c911b72",
   "metadata": {},
   "outputs": [],
   "source": [
    "def load_or_train_qsvc(model_path, X_train, y_train, quantum_kernel):   \n",
    "    if os.path.exists(model_path):\n",
    "        \n",
    "        with open(model_path, 'rb') as file:\n",
    "            qsvc = pickle.load(file)\n",
    "            \n",
    "        print(\"QSVC model loaded from disk.\")\n",
    "\n",
    "    else:        \n",
    "        qsvc = QSVC(quantum_kernel=quantum_kernel)\n",
    "        qsvc.fit(X_train, y_train)\n",
    "\n",
    "        with open(model_path, 'wb') as file:\n",
    "            pickle.dump(qsvc, file)\n",
    "\n",
    "        print(\"QSVC model trained and saved to disk.\")\n",
    "\n",
    "    return qsvc\n"
   ]
  },
  {
   "cell_type": "code",
   "execution_count": 36,
   "id": "5c069939",
   "metadata": {},
   "outputs": [],
   "source": [
    "def load_or_train_svc(model_path, X_train, y_train):   \n",
    "    if os.path.exists(model_path):\n",
    "        \n",
    "        with open(model_path, 'rb') as file:\n",
    "            svc = pickle.load(file)\n",
    "            \n",
    "        print(\"SVC model loaded from disk.\")\n",
    "\n",
    "    else:        \n",
    "        svc = SVC(kernel='rbf', C=1.0, gamma='scale')\n",
    "        svc.fit(X_train, y_train)\n",
    "\n",
    "        with open(model_path, 'wb') as file:\n",
    "            pickle.dump(svc, file)\n",
    "\n",
    "        print(\"SVC model trained and saved to disk.\")\n",
    "\n",
    "    return svc\n"
   ]
  },
  {
   "cell_type": "code",
   "execution_count": 37,
   "id": "6bd7dd6c",
   "metadata": {},
   "outputs": [],
   "source": [
    "model_path_zz = 'models\\qsvc_zz.pkl'\n",
    "model_path_z = 'models\\qsvc_z.pkl' \n",
    "model_path_pauli = 'models\\qsvc_pauli.pkl'\n"
   ]
  },
  {
   "cell_type": "code",
   "execution_count": 38,
   "id": "1c9c8f70",
   "metadata": {},
   "outputs": [
    {
     "name": "stdout",
     "output_type": "stream",
     "text": [
      "QSVC model loaded from disk.\n"
     ]
    }
   ],
   "source": [
    "qsvc_zz = load_or_train_qsvc(model_path_zz, X_train_reduced, y_train, quantum_kernel_zz)"
   ]
  },
  {
   "cell_type": "code",
   "execution_count": 44,
   "id": "c163da23",
   "metadata": {},
   "outputs": [
    {
     "name": "stdout",
     "output_type": "stream",
     "text": [
      "QSVC Training accuracy: 0.00\n",
      "QSVC Test accuracy: 0.00\n"
     ]
    }
   ],
   "source": [
    "train_score_zz = qsvc_zz.score(X_train_reduced, y_train)\n",
    "test_score_zz = qsvc_zz.score(X_test_reduced, y_test)\n",
    "\n",
    "print(f\"QSVC Training accuracy: {train_score_zz:.2f}\")\n",
    "print(f\"QSVC Test accuracy: {test_score_zz:.2f}\")\n"
   ]
  },
  {
   "cell_type": "code",
   "execution_count": null,
   "id": "f8fd529b",
   "metadata": {},
   "outputs": [],
   "source": [
    "classification_report(y_test, qsvc_zz.predict(X_test_reduced), target_names=data.target_names)"
   ]
  },
  {
   "cell_type": "code",
   "execution_count": null,
   "id": "aee9f1f6",
   "metadata": {},
   "outputs": [
    {
     "name": "stdout",
     "output_type": "stream",
     "text": [
      "QSVC model trained and saved to disk.\n"
     ]
    }
   ],
   "source": [
    "qsvc_z = load_or_train_qsvc(model_path_z, X_train_reduced, y_train, quantum_kernel_z)"
   ]
  },
  {
   "cell_type": "code",
   "execution_count": 48,
   "id": "9c53bcfc",
   "metadata": {},
   "outputs": [
    {
     "name": "stdout",
     "output_type": "stream",
     "text": [
      "QSVC for Z Feature Map Training accuracy: 0.63\n",
      "QSVC for Z Feature Map Test accuracy: 0.62\n"
     ]
    }
   ],
   "source": [
    "train_score_z = qsvc_z.score(X_train_reduced, y_train)\n",
    "test_score_z = qsvc_z.score(X_test_reduced, y_test)\n",
    "\n",
    "print(f\"QSVC for Z Feature Map Training accuracy: {train_score_z:.2f}\")\n",
    "print(f\"QSVC for Z Feature Map Test accuracy: {test_score_z:.2f}\")\n"
   ]
  },
  {
   "cell_type": "code",
   "execution_count": 42,
   "id": "174e5f9e",
   "metadata": {},
   "outputs": [
    {
     "name": "stdout",
     "output_type": "stream",
     "text": [
      "QSVC model loaded from disk.\n"
     ]
    }
   ],
   "source": [
    "qsvc_pauli = load_or_train_qsvc(model_path_pauli, X_train_reduced, y_train, quantum_kernel_pauli)"
   ]
  },
  {
   "cell_type": "code",
   "execution_count": 43,
   "id": "ffde114e",
   "metadata": {},
   "outputs": [
    {
     "name": "stdout",
     "output_type": "stream",
     "text": [
      "QSVC Pauli Training accuracy: 0.63\n",
      "QSVC Pauli Test accuracy: 0.62\n"
     ]
    }
   ],
   "source": [
    "train_score_qsvc_pauli = qsvc_pauli.score(X_train_reduced, y_train)\n",
    "test_score_qsvc_pauli = qsvc_pauli.score(X_test_reduced, y_test)\n",
    "\n",
    "print(f\"QSVC Pauli Training accuracy: {train_score_qsvc_pauli:.2f}\")\n",
    "print(f\"QSVC Pauli Test accuracy: {test_score_qsvc_pauli:.2f}\")\n"
   ]
  },
  {
   "cell_type": "code",
   "execution_count": null,
   "id": "30d39ee8",
   "metadata": {},
   "outputs": [],
   "source": [
    "classic_model_path = 'models\\svc_model.pkl'"
   ]
  },
  {
   "cell_type": "code",
   "execution_count": 45,
   "id": "be48047a",
   "metadata": {},
   "outputs": [
    {
     "name": "stdout",
     "output_type": "stream",
     "text": [
      "SVC model loaded from disk.\n"
     ]
    }
   ],
   "source": [
    "svc = load_or_train_svc(classic_model_path, X_train_reduced, y_train)"
   ]
  },
  {
   "cell_type": "code",
   "execution_count": 46,
   "id": "2d35a0e7",
   "metadata": {},
   "outputs": [
    {
     "name": "stdout",
     "output_type": "stream",
     "text": [
      "Classical SVM Training accuracy: 0.93\n",
      "Classical SVM Test accuracy: 0.96\n"
     ]
    }
   ],
   "source": [
    "train_score_svc = svc.score(X_train_reduced, y_train)\n",
    "test_score_svc = svc.score(X_test_reduced, y_test)\n",
    "\n",
    "print(f\"Classical SVM Training accuracy: {train_score_svc:.2f}\")\n",
    "print(f\"Classical SVM Test accuracy: {test_score_svc:.2f}\")\n"
   ]
  },
  {
   "cell_type": "code",
   "execution_count": 31,
   "id": "0cd2d969",
   "metadata": {},
   "outputs": [],
   "source": [
    "def predict_with_model(X_array, model_name, models_dir='models'):\n",
    "\n",
    "    pca_path = os.path.join(models_dir, 'pca.pkl')\n",
    "    if not os.path.exists(pca_path):\n",
    "        raise FileNotFoundError(\"PCA transformer not found. Please train and save PCA first.\")\n",
    "    with open(pca_path, 'rb') as f:\n",
    "        pca = pickle.load(f)\n",
    "    \n",
    "    X_reduced = pca.transform([X_array])\n",
    "    \n",
    "    model_path = os.path.join(models_dir, f\"{model_name}.pkl\")\n",
    "    if not os.path.exists(model_path):\n",
    "        raise FileNotFoundError(f\"Model '{model_name}' not found in {models_dir}.\")\n",
    "    with open(model_path, 'rb') as f:\n",
    "        model = pickle.load(f)\n",
    "\n",
    "    preds = model.predict(X_reduced)\n",
    "    \n",
    "    return preds[0]"
   ]
  },
  {
   "cell_type": "code",
   "execution_count": 32,
   "id": "6f4765a8",
   "metadata": {},
   "outputs": [
    {
     "data": {
      "text/plain": [
       "0"
      ]
     },
     "execution_count": 32,
     "metadata": {},
     "output_type": "execute_result"
    }
   ],
   "source": [
    "predict_with_model(X_test[1], 'svc_model', models_dir='models')"
   ]
  },
  {
   "cell_type": "code",
   "execution_count": 37,
   "id": "eb3be679",
   "metadata": {},
   "outputs": [
    {
     "data": {
      "text/plain": [
       "1"
      ]
     },
     "execution_count": 37,
     "metadata": {},
     "output_type": "execute_result"
    }
   ],
   "source": [
    "predict_with_model(X_test[1], 'qsvc_z', models_dir='models')"
   ]
  },
  {
   "cell_type": "code",
   "execution_count": null,
   "id": "fdb5a2fc",
   "metadata": {},
   "outputs": [],
   "source": []
  }
 ],
 "metadata": {
  "kernelspec": {
   "display_name": "Python 3",
   "language": "python",
   "name": "python3"
  },
  "language_info": {
   "codemirror_mode": {
    "name": "ipython",
    "version": 3
   },
   "file_extension": ".py",
   "mimetype": "text/x-python",
   "name": "python",
   "nbconvert_exporter": "python",
   "pygments_lexer": "ipython3",
   "version": "3.12.2"
  }
 },
 "nbformat": 4,
 "nbformat_minor": 5
}
